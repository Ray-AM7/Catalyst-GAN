{
 "cells": [
  {
   "cell_type": "code",
   "execution_count": 17,
   "metadata": {},
   "outputs": [],
   "source": [
    "from mpcontribs.client import Client\n",
    "\n",
    "client = Client(project=\"open_catalyst_project\")\n",
    "\n",
    "# example queries - filters can be combined in same `query`\n",
    "#query = {}  # filter by MP id's\n",
    "#query = {\"formula__contains\": \"Fe\"} # filter formula by substring\n",
    "#query = {\"dat \": 0.5} # filter by adsorption energy\n",
    "\n",
    "#fields = [\"data.mpid\"]\n",
    "\n",
    "#data = client.query_contributions(query=query, fields=fields, paginate=True)\n",
    "\n",
    "# Open a file in write mode\n",
    "#with open('output.txt', 'w') as file:\n",
    "    # Write the total count to the file\n",
    "    #file.write(f\"Total Count: {data['total_count']}\\n\")\n",
    "    # Write each 'mpid' value to the file\n",
    "    #for entry in data['data']:\n",
    "       # mpid = entry['data']['mpid']\n",
    "        #file.write(f\"{mpid}\\n\")"
   ]
  },
  {
   "cell_type": "code",
   "execution_count": 3,
   "metadata": {},
   "outputs": [],
   "source": [
    "# Read the content of the file\n",
    "with open('output.txt', 'r') as file:\n",
    "    lines = file.readlines()\n",
    "\n",
    "# Remove duplicates by converting lines to a set\n",
    "unique_lines = set(lines)\n",
    "\n",
    "# Write the unique lines back to the file\n",
    "with open('nodupes.txt', 'w') as file:\n",
    "    file.writelines(unique_lines)"
   ]
  },
  {
   "cell_type": "code",
   "execution_count": null,
   "metadata": {},
   "outputs": [],
   "source": [
    "from mp_api.client import MPRester\n",
    "m = MPRester(api_key=\"T355lPMgE4diI0bSKkBcvvH1lXqZ8WLg\")\n",
    "\n",
    "# Open the file and iterate over each line\n",
    "with open('top1k.txt', 'r') as file:\n",
    "    for line in file:\n",
    "        x = line.strip()\n",
    "        structure = m.get_structure_by_material_id(x)\n",
    "        print(structure)\n",
    "        cif_data = structure.to(fmt=\"json\")\n",
    "        fn = x + \".json\"\n",
    "        with open(fn, \"w\") as f:\n",
    "            f.write(cif_data)"
   ]
  },
  {
   "cell_type": "code",
   "execution_count": null,
   "metadata": {},
   "outputs": [],
   "source": [
    "from mp_api.client import MPRester\n",
    "m = MPRester(api_key=\"T355lPMgE4diI0bSKkBcvvH1lXqZ8WLg\")\n",
    "\n",
    "with open('top1k.txt', 'r') as file:\n",
    "    for line in file:\n",
    "        x = line.strip()\n",
    "        structure = m.get_structure_by_material_id(x, conventional_unit_cell=True)\n",
    "        try:\n",
    "            cif_data = structure.to(filename=f\"{x}.cif\")\n",
    "        except:\n",
    "            pass"
   ]
  },
  {
   "cell_type": "code",
   "execution_count": 16,
   "metadata": {},
   "outputs": [],
   "source": [
    "from ase.io import read\n",
    "import os\n",
    "\n",
    "directory = 'S:/SmallBobbyAI/bulk-cifs'  # Replace this with the path to your directory\n",
    "\n",
    "# Iterate over each file in the directory\n",
    "for filename in os.listdir(directory):\n",
    "    filepath = os.path.join(directory, filename)\n",
    "    if os.path.isfile(filepath):\n",
    "        atoms = read(filepath)\n",
    "\n",
    "        # Access fractional coordinates\n",
    "        fractional_coords = atoms.get_scaled_positions()\n",
    "\n",
    "        # Access cell parameters\n",
    "        cell = atoms.get_cell()\n",
    "\n",
    "        # Access atomic symbols (elements)\n",
    "        elements = atoms.get_chemical_symbols()\n",
    "\n",
    "        # Convert fractional coordinates to Cartesian coordinates\n",
    "        cartesian_coords = fractional_coords @ cell\n",
    "\n",
    "        with open(filename + '.txt', 'w') as file:\n",
    "            file.write(filename)\n",
    "            file.write(\"\\n\")\n",
    "            for element, coords in zip(elements, cartesian_coords):\n",
    "                file.write(f\"{element} {coords[0]} {coords[1]} {coords[2]}\\n\")"
   ]
  }
 ],
 "metadata": {
  "kernelspec": {
   "display_name": "tf",
   "language": "python",
   "name": "python3"
  },
  "language_info": {
   "codemirror_mode": {
    "name": "ipython",
    "version": 3
   },
   "file_extension": ".py",
   "mimetype": "text/x-python",
   "name": "python",
   "nbconvert_exporter": "python",
   "pygments_lexer": "ipython3",
   "version": "3.9.18"
  }
 },
 "nbformat": 4,
 "nbformat_minor": 2
}
